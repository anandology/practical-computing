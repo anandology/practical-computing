{
 "cells": [
  {
   "cell_type": "markdown",
   "id": "abefedcb-ecc7-4d3d-bb03-ecbb281d5c35",
   "metadata": {},
   "source": [
    "# Session 1"
   ]
  },
  {
   "cell_type": "markdown",
   "id": "711dc308-6d1a-4ab1-8138-14bbc2334663",
   "metadata": {},
   "source": [
    "Welcome to the first session!"
   ]
  },
  {
   "cell_type": "code",
   "execution_count": null,
   "id": "1f182ec3-c650-4b4f-9e21-179f935540d8",
   "metadata": {},
   "outputs": [],
   "source": []
  }
 ],
 "metadata": {
  "kernelspec": {
   "display_name": "Python 3 (ipykernel)",
   "language": "python",
   "name": "python3"
  },
  "language_info": {
   "codemirror_mode": {
    "name": "ipython",
    "version": 3
   },
   "file_extension": ".py",
   "mimetype": "text/x-python",
   "name": "python",
   "nbconvert_exporter": "python",
   "pygments_lexer": "ipython3",
   "version": "3.10.6"
  }
 },
 "nbformat": 4,
 "nbformat_minor": 5
}
